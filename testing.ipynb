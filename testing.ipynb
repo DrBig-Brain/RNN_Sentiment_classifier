{
 "cells": [
  {
   "cell_type": "code",
   "execution_count": null,
   "id": "be49a73f",
   "metadata": {},
   "outputs": [],
   "source": [
    "from tensorflow import keras\n",
    "import pickle\n",
    "from tensorflow.keras.utils import pad_sequences"
   ]
  },
  {
   "cell_type": "code",
   "execution_count": 2,
   "id": "8e085a84",
   "metadata": {},
   "outputs": [],
   "source": [
    "with open('tokenizer.pkl','rb') as file:\n",
    "    tokenizer=pickle.load(file)"
   ]
  },
  {
   "cell_type": "code",
   "execution_count": 3,
   "id": "3a7d923c",
   "metadata": {},
   "outputs": [
    {
     "data": {
      "text/plain": [
       "834"
      ]
     },
     "execution_count": 3,
     "metadata": {},
     "output_type": "execute_result"
    }
   ],
   "source": [
    "text = \"Went in ready to enjoy a simple/fun popcorn movie, but then Gunn sneak-attacked me with actual heart and heroism! Ugh! It hit me right in the heart (the ending that I won't spoil) made me misty eyed. It was good! Really good! I'm pleasantly surprised! I look forward to watching it again! I saw this with my family and everyone enjoyed the movie! I was not a fan of Man of Steel or Justice League but this one has reignited my hope for future DC films. It's quite a lot to get into at the beginning they throw a lot at you. However, I appreciate it not having to see Superman's entire story to begin the film. Most people know his origin story sao it's nice to just jump into the action. Some of the other superheroes in the movie were also quite entertaining. It'll be cool to see where the justice gang ends up in future adventures.\"\n",
    "len(text)"
   ]
  },
  {
   "cell_type": "code",
   "execution_count": 9,
   "id": "82b3dc28",
   "metadata": {},
   "outputs": [],
   "source": [
    "tokenized_text = tokenizer.texts_to_sequences([text])"
   ]
  },
  {
   "cell_type": "code",
   "execution_count": 10,
   "id": "0c6e2e7b",
   "metadata": {},
   "outputs": [
    {
     "data": {
      "text/plain": [
       "1"
      ]
     },
     "execution_count": 10,
     "metadata": {},
     "output_type": "execute_result"
    }
   ],
   "source": [
    "len(tokenized_text)"
   ]
  },
  {
   "cell_type": "code",
   "execution_count": 12,
   "id": "f1d64f4c",
   "metadata": {},
   "outputs": [
    {
     "data": {
      "text/plain": [
       "array([[  415,     9,  1593,     6,   355,     4,   593,   246,  3879,\n",
       "           18,    19,    92, 19200,  5182,  2992,    69,    17,   824,\n",
       "          490,     3, 10464,  5619,    10,   578,    69,   204,     9,\n",
       "            2,   490,     2,   273,    13,    11,   509,  2385,    91,\n",
       "           69,  9013,  3117,    10,    14,    50,    63,    50,   146,\n",
       "         3742,   761,    11,   164,   930,     6,   148,    10,   173,\n",
       "           11,   211,    12,    17,    57,   237,     3,   305,   512,\n",
       "            2,    18,    11,    14,    22,     4,   327,     5,   129,\n",
       "            5,  4460,    39,  1439,  2877,    19,    12,    28,    46,\n",
       "            1,    57,   435,    16,   732, 10289,   105,    45,   180,\n",
       "            4,   170,     6,    77,    83,    31,     2,   454,    34,\n",
       "         1358,     4,   170,    31,    23,   189,    11,  1117,    10,\n",
       "           22,   264,     6,    64, 21201,   439,    65,     6,   905,\n",
       "            2,    20,    89,    84,   119,    25,  5386,    65, 27291,\n",
       "           45,   332,     6,    40,  1903,    83,     2,   206,    48,\n",
       "            5,     2,    80, 19413,     9,     2,    18,    71,    82,\n",
       "          180,   428,  3814,    27,   595,     6,    64,   118,     2,\n",
       "         1439,  1205,   654,    54,     9,   732,  2519,     0,     0,\n",
       "            0,     0,     0,     0,     0,     0,     0,     0,     0,\n",
       "            0,     0,     0,     0,     0,     0,     0,     0,     0,\n",
       "            0,     0,     0,     0,     0,     0,     0,     0,     0,\n",
       "            0,     0,     0,     0,     0,     0,     0,     0,     0,\n",
       "            0,     0,     0,     0,     0,     0,     0,     0,     0,\n",
       "            0,     0,     0,     0,     0,     0,     0,     0,     0,\n",
       "            0,     0,     0,     0,     0,     0,     0,     0,     0,\n",
       "            0,     0,     0,     0,     0,     0,     0,     0,     0,\n",
       "            0,     0]], dtype=int32)"
      ]
     },
     "execution_count": 12,
     "metadata": {},
     "output_type": "execute_result"
    }
   ],
   "source": [
    "padded_sequence = pad_sequences(tokenized_text,maxlen=236,padding='post')\n",
    "padded_sequence"
   ]
  },
  {
   "cell_type": "code",
   "execution_count": 14,
   "id": "4d0dc683",
   "metadata": {},
   "outputs": [
    {
     "data": {
      "text/plain": [
       "236"
      ]
     },
     "execution_count": 14,
     "metadata": {},
     "output_type": "execute_result"
    }
   ],
   "source": [
    "len(padded_sequence[0])"
   ]
  },
  {
   "cell_type": "code",
   "execution_count": 16,
   "id": "cca0a9af",
   "metadata": {},
   "outputs": [
    {
     "name": "stdout",
     "output_type": "stream",
     "text": [
      "\u001b[1m1/1\u001b[0m \u001b[32m━━━━━━━━━━━━━━━━━━━━\u001b[0m\u001b[37m\u001b[0m \u001b[1m0s\u001b[0m 326ms/step\n"
     ]
    }
   ],
   "source": [
    "from keras.models import load_model\n",
    "model = load_model('model.keras')\n",
    "pred=model.predict(padded_sequence)"
   ]
  },
  {
   "cell_type": "code",
   "execution_count": 17,
   "id": "e6d31921",
   "metadata": {},
   "outputs": [
    {
     "data": {
      "text/plain": [
       "array([[0.9908495]], dtype=float32)"
      ]
     },
     "execution_count": 17,
     "metadata": {},
     "output_type": "execute_result"
    }
   ],
   "source": [
    "pred"
   ]
  },
  {
   "cell_type": "code",
   "execution_count": null,
   "id": "4fa355f7",
   "metadata": {},
   "outputs": [],
   "source": []
  }
 ],
 "metadata": {
  "kernelspec": {
   "display_name": "Python 3",
   "language": "python",
   "name": "python3"
  },
  "language_info": {
   "codemirror_mode": {
    "name": "ipython",
    "version": 3
   },
   "file_extension": ".py",
   "mimetype": "text/x-python",
   "name": "python",
   "nbconvert_exporter": "python",
   "pygments_lexer": "ipython3",
   "version": "3.12.6"
  }
 },
 "nbformat": 4,
 "nbformat_minor": 5
}
